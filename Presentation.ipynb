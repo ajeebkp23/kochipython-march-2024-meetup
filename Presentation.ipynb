{
 "cells": [
  {
   "cell_type": "markdown",
   "id": "f6299305-c074-4d88-941d-a1d347747f7a",
   "metadata": {},
   "source": [
    "# Python Version management with pyenv 📝\n",
    "\n",
    "- TinkerSpace\n",
    "- 9th March 2024\n",
    "- Ajeeb K P\n",
    "- Senior Data Engineer\n",
    "- Chisquare Labs (SiteRx)\n",
    "- Linux/Python/Vim/Vue enthusiast"
   ]
  },
  {
   "cell_type": "markdown",
   "id": "0a36398e-561d-4a87-b438-b6808fb858dc",
   "metadata": {},
   "source": [
    "## Why pyenv ? 🖥️\n",
    " \n",
    "- change the **global** Python version on a per-user basis\n",
    "- **per-project** Python versions\n",
    "- override the Python version with an **environment variable**\n",
    "- search multiple versions of Python at a time, for example with tox\n",
    "- Create virtualenvs"
   ]
  },
  {
   "cell_type": "markdown",
   "id": "cbbf28b4-612b-4153-a5bf-8cbd566c65d2",
   "metadata": {},
   "source": [
    "## Install\n",
    " \n",
    "- <a href=\"https://github.com/pyenv/pyenv?tab=readme-ov-file#install-python-build-dependencies\" target=\"_blank\">https://github.com/pyenv/pyenv?tab=readme-ov-file#install-python-build-dependencies</a> \n",
    "- <a href=\"https://github.com/pyenv/pyenv?tab=readme-ov-file#automatic-installer\" target=\"_blank\">https://github.com/pyenv/pyenv?tab=readme-ov-file#automatic-installer</a> \n",
    "- <a href=\"https://github.com/pyenv/pyenv?tab=readme-ov-file#set-up-your-shell-environment-for-pyenv\" target=\"_blank\">https://github.com/pyenv/pyenv?tab=readme-ov-file#set-up-your-shell-environment-for-pyenv</a>\n",
    "- exec $SHELL\n",
    "- or\n",
    "- restart your shell"
   ]
  },
  {
   "cell_type": "markdown",
   "id": "eeb834e8-9189-4a32-90da-0304557eb05b",
   "metadata": {},
   "source": [
    "## Usage\n",
    "\n",
    "```\n",
    "pyenv\n",
    "pyenv install 3.11.0\n",
    "pyenv global 3.11.0\n",
    "pyenv local 3.11.0\n",
    "pyenv virtualenvs\n",
    "pyenv virtualenv kochi.python\n",
    "pyenv activate kochi.python\n",
    "```"
   ]
  },
  {
   "cell_type": "markdown",
   "id": "cc1f1582-03b2-44ad-b375-12a9223a669c",
   "metadata": {},
   "source": [
    "## Alternatives\n",
    "\n",
    "<a href=\"https://asdf-vm.com/\" target=\"_blank\">https://asdf-vm.com/</a> \n",
    "\n",
    "<a href=\"https://anaconda.org/\" target=\"_blank\">https://anaconda.org/</a> \n",
    "\n",
    "<a href=\"https://docs.anaconda.com/free/miniconda/miniconda-install/\" target=\"_blank\">https://docs.anaconda.com/free/miniconda/miniconda-install/</a> \n",
    "\n",
    "<a href=\"https://launchpad.net/~deadsnakes/+archive/ubuntu/ppa\" target=\"_blank\">https://launchpad.net/~deadsnakes/+archive/ubuntu/ppa</a> \n",
    "\n",
    "<a href=\"https://github.com/astral-sh/uv\" target=\"_blank\">https://github.com/astral-sh/uv</a> \n",
    "\n",
    "<a href=\"https\" target=\"_blank\">https</a> "
   ]
  },
  {
   "cell_type": "markdown",
   "id": "0039dcc8-cdc9-4726-849e-a93921d0ca74",
   "metadata": {
    "scrolled": true
   },
   "source": [
    "## Thank you!\n",
    "\n",
    "## Resources 📚\n",
    "<a href=\"https://github.com/pyenv/pyenv\" target=\"_blank\">https://github.com/pyenv/pyenv</a> "
   ]
  }
 ],
 "metadata": {
  "kernelspec": {
   "display_name": "Python 3 (ipykernel)",
   "language": "python",
   "name": "python3"
  },
  "language_info": {
   "codemirror_mode": {
    "name": "ipython",
    "version": 3
   },
   "file_extension": ".py",
   "mimetype": "text/x-python",
   "name": "python",
   "nbconvert_exporter": "python",
   "pygments_lexer": "ipython3",
   "version": "3.10.13"
  }
 },
 "nbformat": 4,
 "nbformat_minor": 5
}
